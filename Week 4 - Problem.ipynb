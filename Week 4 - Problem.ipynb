{
 "cells": [
  {
   "cell_type": "markdown",
   "metadata": {},
   "source": [
    "### PROBLEM"
   ]
  },
  {
   "cell_type": "markdown",
   "metadata": {},
   "source": [
    "In this problem I am trying to discover the best neighborhood to open a Vegan / Vegetarian restaurant in Belo Horizonte."
   ]
  },
  {
   "cell_type": "markdown",
   "metadata": {},
   "source": [
    "First of all, in the Wikipedia site, \n",
    "https://pt.wikipedia.org/wiki/Lista_de_bairros_de_Belo_Horizonte \n",
    "I will get the neighborhood´s list parsing with Beautiful Soup."
   ]
  },
  {
   "cell_type": "markdown",
   "metadata": {},
   "source": [
    "\tÍndice\tZona\t\tRegional\t\t\tBairro\n",
    "        1\tZONA LESTE\tLeste\t\t\t    Sagrada%20Familia\n",
    "        2\tZONA SUL\tOeste\t\t\t    Buritis\n",
    "    \t3\tZONA OESTE\tNoroeste\t\t\tPadre%20Eustaquio\n",
    "    \t4\tZONA OESTE\tBarreiro\t\t\tLindeia\n",
    "    \t5\tZONA NORTE\tPamp./ Venda Nova\tSanta%20Monica\n"
   ]
  },
  {
   "cell_type": "markdown",
   "metadata": {},
   "source": [
    "After that, I will access http://geocoder.pbh.gov.br/geocoder/0.0.1/address?bairro={}, that is a City Hall official site and get the UTM directions of all neighborhoods. "
   ]
  },
  {
   "cell_type": "code",
   "execution_count": null,
   "metadata": {},
   "outputs": [],
   "source": [
    "Bairro             Zona         Regional            Longitude          Latitude\n",
    "Sagrada%Familia    ZONA LESTE   Leste               612477.03312361    7798062.0556387\n",
    "Buritis            ZONA SUL     Oeste               607309.483827017   7790358.9561129\n",
    "Padre%Eustáquio    ZONA OESTE   Noroeste            606271.46842147    7796962.48553224\n",
    "Lindeia            ZONA OESTE   Barreiro            598880.339164215   7789696.98561535\n"
   ]
  },
  {
   "cell_type": "markdown",
   "metadata": {},
   "source": [
    "Them, I will use the pyproj library to get the Geographical Coordinates and use the foursquase API."
   ]
  },
  {
   "cell_type": "code",
   "execution_count": null,
   "metadata": {},
   "outputs": [],
   "source": [
    "Bairro             Zona         Regional            Long          Lat\n",
    "Sagrada%Familia    ZONA LESTE   Leste               -43.925402    -19.910513\n",
    "Buritis            ZONA SUL     Oeste               -43.974317    -19.980404\n",
    "Padre%Eustáquio    ZONA OESTE   Noroeste            -43.984619    -19.920796\n",
    "Lindeia            ZONA OESTE   Barreiro            -44.054840    -19.986833\n"
   ]
  },
  {
   "cell_type": "markdown",
   "metadata": {},
   "source": [
    "With this DataFrame, I can access the foursquare data to cluster and define the best place to open this Vegas/Vegetarian Restaurant."
   ]
  }
 ],
 "metadata": {
  "kernelspec": {
   "display_name": "Python 3",
   "language": "python",
   "name": "python3"
  },
  "language_info": {
   "codemirror_mode": {
    "name": "ipython",
    "version": 3
   },
   "file_extension": ".py",
   "mimetype": "text/x-python",
   "name": "python",
   "nbconvert_exporter": "python",
   "pygments_lexer": "ipython3",
   "version": "3.8.5"
  }
 },
 "nbformat": 4,
 "nbformat_minor": 4
}
